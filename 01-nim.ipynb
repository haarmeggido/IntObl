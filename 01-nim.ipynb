{
 "cells": [
  {
   "cell_type": "markdown",
   "metadata": {},
   "source": [
    "# Inteligencja Obliczeniowa w Analizie danych cyfrowych\n",
    "\n",
    "## Lab 1. Integracja niederministycznej wersji gry NIM i analiza algorytmów\n",
    "\n",
    "### Miłosz Góralczyk"
   ]
  },
  {
   "cell_type": "markdown",
   "metadata": {},
   "source": [
    "### 1. Importy biblotek ogólnych"
   ]
  },
  {
   "cell_type": "code",
   "execution_count": 4,
   "metadata": {},
   "outputs": [],
   "source": [
    "import numpy as np\n",
    "import matplotlib.pyplot as plt\n",
    "import pandas as pd\n",
    "from typing import Optional, Final, ClassVar\n",
    "from random import random, seed"
   ]
  },
  {
   "cell_type": "markdown",
   "metadata": {},
   "source": [
    "Import oraz Implementacja zmodyfikowanych potrzebnych klas EasyAI"
   ]
  },
  {
   "cell_type": "code",
   "execution_count": 31,
   "metadata": {},
   "outputs": [],
   "source": [
    "from easyAI.games import Nim\n",
    "from easyAI import AI_Player, Negamax, TwoPlayerGame, solve_with_iterative_deepening\n",
    "from easyAI.AI import TranspositionTable\n",
    "\n",
    "\n",
    "\n",
    "class Nimby(Nim):\n",
    "    WRONG_MOVE_CHANCE: ClassVar[float] = 0.1\n",
    "    \n",
    "    def make_move(self, move: str) -> None:\n",
    "        where, count = tuple(map(int, move.split(\",\")))\n",
    "        #   Added randomness as described in the task\n",
    "        if Nimby.WRONG_MOVE_CHANCE >= random():\n",
    "            remove = count - 1\n",
    "        else:\n",
    "            remove = count\n",
    "\n",
    "        self.piles[where - 1] -= remove\n",
    "\n",
    "def ask_move_modified(self, game):\n",
    "    original_make_move = game.make_move\n",
    "    game.make_move = Nim.make_move.__get__(game, Nim)\n",
    "    move = self.AI_algo(game)\n",
    "    game.make_move = original_make_move\n",
    "    \n",
    "    return move\n",
    "\n",
    "ask_move_original = AI_Player.ask_move\n",
    "AI_Player.ask_move = ask_move_modified"
   ]
  },
  {
   "cell_type": "markdown",
   "metadata": {},
   "source": [
    "Przetestowanie gry AI - AI"
   ]
  },
  {
   "cell_type": "code",
   "execution_count": 29,
   "metadata": {},
   "outputs": [
    {
     "name": "stdout",
     "output_type": "stream",
     "text": [
      "Wygrana:gracz nr 1, liczba ruchów: 23\n",
      "Wygrana:gracz nr 1, liczba ruchów: 21\n",
      "Wygrana:gracz nr 2, liczba ruchów: 22\n",
      "Wygrana:gracz nr 1, liczba ruchów: 23\n",
      "Wygrana:gracz nr 2, liczba ruchów: 20\n",
      "Wygrana:gracz nr 1, liczba ruchów: 23\n",
      "Wygrana:gracz nr 2, liczba ruchów: 24\n",
      "Wygrana:gracz nr 1, liczba ruchów: 21\n",
      "Wygrana:gracz nr 1, liczba ruchów: 21\n",
      "Wygrana:gracz nr 1, liczba ruchów: 23\n"
     ]
    }
   ],
   "source": [
    "ai1: Negamax = Negamax(5, tt=TranspositionTable())\n",
    "ai2: Negamax = Negamax(6, tt=TranspositionTable())\n",
    "\n",
    "\n",
    "for _ in range(10):\n",
    "    nimby: Nimby = Nimby([AI_Player(ai1), AI_Player(ai2)])\n",
    "    nimby.play()\n",
    "    print(f'Wygrana:gracz nr {nimby.current_player}, liczba ruchów: {nimby.nmove}')"
   ]
  },
  {
   "cell_type": "markdown",
   "metadata": {},
   "source": [
    "### Algorytm Negamax\n",
    "\n",
    "Wersja deterministyczna. Tworzymy tablicę transpozycji i 'rozwiązujemy' grę. W wersji deterministycznej dla każdego ułożenia istnieje 'winning strategy'. Wystarczy obliczyć jak się zachować w każdej pozycji i gracz zaczynający zawsze wygra rozgrywkę"
   ]
  },
  {
   "cell_type": "code",
   "execution_count": 32,
   "metadata": {},
   "outputs": [
    {
     "name": "stdout",
     "output_type": "stream",
     "text": [
      "d:1, a:0, m:1,1\n",
      "d:2, a:0, m:1,1\n",
      "d:3, a:0, m:1,1\n",
      "d:4, a:0, m:1,1\n",
      "d:5, a:0, m:1,1\n",
      "d:6, a:0, m:1,1\n",
      "d:7, a:0, m:1,1\n",
      "d:8, a:0, m:1,1\n",
      "d:9, a:0, m:1,1\n",
      "d:10, a:0, m:1,1\n",
      "d:11, a:0, m:1,1\n",
      "d:12, a:0, m:1,1\n",
      "d:13, a:0, m:1,1\n",
      "d:14, a:-100, m:1,1\n"
     ]
    },
    {
     "data": {
      "text/plain": [
       "(-1, 14, '1,1', 1100)"
      ]
     },
     "execution_count": 32,
     "metadata": {},
     "output_type": "execute_result"
    }
   ],
   "source": [
    "trans_table: TranspositionTable = TranspositionTable()\n",
    "w, d, m = solve_with_iterative_deepening(Nim(), range(1, 25), win_score=80, tt=trans_table)\n",
    "w, d, m, len(trans_table.d)"
   ]
  },
  {
   "cell_type": "markdown",
   "metadata": {},
   "source": []
  }
 ],
 "metadata": {
  "kernelspec": {
   "display_name": "Python 3",
   "language": "python",
   "name": "python3"
  },
  "language_info": {
   "codemirror_mode": {
    "name": "ipython",
    "version": 3
   },
   "file_extension": ".py",
   "mimetype": "text/x-python",
   "name": "python",
   "nbconvert_exporter": "python",
   "pygments_lexer": "ipython3",
   "version": "3.12.0"
  }
 },
 "nbformat": 4,
 "nbformat_minor": 2
}
