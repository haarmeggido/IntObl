{
 "cells": [
  {
   "cell_type": "code",
   "execution_count": null,
   "id": "initial_id",
   "metadata": {
    "collapsed": true
   },
   "outputs": [],
   "source": []
  },
  {
   "cell_type": "code",
   "execution_count": 4,
   "id": "880d0cf4",
   "metadata": {},
   "outputs": [],
   "source": [
    "import numpy as np\n",
    "import pandas as pd\n",
    "import matplotlib.pyplot as plt\n",
    "import pygame\n",
    "\n",
    "def get_pressed_keys():\n",
    "    keys = pygame.key.get_pressed()\n",
    "    return {\n",
    "        'left': keys[pygame.K_LEFT],\n",
    "        'right': keys[pygame.K_RIGHT],\n",
    "        'quit': keys[pygame.K_ESCAPE] or keys[pygame.K_q],\n",
    "    }"
   ]
  },
  {
   "cell_type": "code",
   "execution_count": 5,
   "id": "9f8f6e3627032e71",
   "metadata": {
    "collapsed": false
   },
   "outputs": [],
   "source": [
    "import asteroid_env\n",
    "import importlib\n",
    "importlib.reload(asteroid_env)\n",
    "\n",
    "env = asteroid_env.AstEnv(\"human\")\n",
    "env.reset()\n",
    "\n",
    "i = 0\n",
    "\n",
    "while True:\n",
    "    # take a random action\n",
    "    # random_action: float = (np.random.random() * 2. -1.) * 0.5\n",
    "    # _, score, done, _, _ =  env.step(random_action)\n",
    "\n",
    "    player_action = 0\n",
    "    pressed_keys = get_pressed_keys()\n",
    "\n",
    "\n",
    "    if pressed_keys['left']:\n",
    "        player_action = -0.5\n",
    "    elif pressed_keys['right']:\n",
    "        player_action = 0.5\n",
    "\n",
    "    \n",
    "\n",
    "    _, score, done, _, _ =  env.step(player_action)\n",
    "\n",
    "    if pressed_keys['quit']:\n",
    "        break\n",
    "    \n",
    "    if done:\n",
    "        print(f'{score=}')\n",
    "        env.reset()\n",
    "\n",
    "\n",
    "    i += 1\n",
    "\n",
    "env.close()"
   ]
  },
  {
   "cell_type": "code",
   "execution_count": 6,
   "id": "556c1f3adbc760aa",
   "metadata": {
    "collapsed": false
   },
   "outputs": [],
   "source": [
    "env.close()"
   ]
  }
 ],
 "metadata": {
  "kernelspec": {
   "display_name": "Python 3",
   "language": "python",
   "name": "python3"
  },
  "language_info": {
   "codemirror_mode": {
    "name": "ipython",
    "version": 3
   },
   "file_extension": ".py",
   "mimetype": "text/x-python",
   "name": "python",
   "nbconvert_exporter": "python",
   "pygments_lexer": "ipython3",
   "version": "3.12.1"
  }
 },
 "nbformat": 4,
 "nbformat_minor": 5
}
