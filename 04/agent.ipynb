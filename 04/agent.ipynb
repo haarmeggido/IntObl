{
 "cells": [
  {
   "cell_type": "code",
   "execution_count": 20,
   "metadata": {
    "is_executing": true
   },
   "outputs": [],
   "source": [
    "import numpy as np\n",
    "import pandas as pd\n",
    "import matplotlib.pyplot as plt"
   ]
  },
  {
   "cell_type": "markdown",
   "metadata": {},
   "source": [
    "# Attempt no. 2"
   ]
  },
  {
   "cell_type": "code",
   "execution_count": 21,
   "metadata": {
    "ExecuteTime": {
     "end_time": "2024-05-02T22:23:29.296532Z",
     "start_time": "2024-05-02T22:23:27.732653Z"
    }
   },
   "outputs": [],
   "source": [
    "from __future__ import annotations\n",
    "\n",
    "import random\n",
    "\n",
    "import matplotlib.pyplot as plt\n",
    "import numpy as np\n",
    "import torch\n",
    "import torch.nn as nn\n",
    "from torch.distributions.normal import Normal\n",
    "\n",
    "plt.rcParams[\"figure.figsize\"] = (5, 10)"
   ]
  },
  {
   "cell_type": "code",
   "execution_count": 22,
   "metadata": {
    "ExecuteTime": {
     "end_time": "2024-05-02T22:23:29.383151Z",
     "start_time": "2024-05-02T22:23:29.297620Z"
    }
   },
   "outputs": [
    {
     "name": "stderr",
     "output_type": "stream",
     "text": [
      "c:\\Users\\Karolina\\AppData\\Local\\Programs\\Python\\Python312\\Lib\\site-packages\\gym\\envs\\registration.py:498: UserWarning: \u001b[33mWARN: Overriding environment custom/asteroid-v1 already in registry.\u001b[0m\n",
      "  logger.warn(f\"Overriding environment {new_spec.id} already in registry.\")\n"
     ]
    }
   ],
   "source": [
    "from gym.envs.registration import register\n",
    "\n",
    "register(\n",
    "    id='custom/asteroid-v1',\n",
    "    entry_point='asteroid_env:AstEnv',\n",
    "    max_episode_steps=2000\n",
    ")\n",
    "\n",
    "from gym import make\n",
    "env = make('custom/asteroid-v1', render_mode=None, ship_size = (15, 15))"
   ]
  },
  {
   "cell_type": "code",
   "execution_count": 23,
   "metadata": {
    "ExecuteTime": {
     "end_time": "2024-05-02T22:23:29.389486Z",
     "start_time": "2024-05-02T22:23:29.384266Z"
    }
   },
   "outputs": [],
   "source": [
    "class Policy_Network(nn.Module):\n",
    "    \"\"\"Parametrized Policy Network.\"\"\"\n",
    "\n",
    "    def __init__(self, obs_space_dims: int, action_space_dims: int):\n",
    "        super().__init__()\n",
    "\n",
    "        hidden_space1 = 16\n",
    "        hidden_space2 = 32\n",
    "        hidden_space3 = 64\n",
    "\n",
    "        # Shared Network\n",
    "        self.shared_net = nn.Sequential(\n",
    "            nn.Linear(obs_space_dims, hidden_space1),\n",
    "            nn.Tanh(),\n",
    "            nn.Linear(hidden_space1, hidden_space2),\n",
    "            nn.Tanh(),\n",
    "            nn.Linear(hidden_space2, hidden_space3),\n",
    "            nn.Tanh(),\n",
    "        )\n",
    "\n",
    "        # Policy Mean specific Linear Layer\n",
    "        self.policy_mean_net = nn.Sequential(\n",
    "            nn.Linear(hidden_space3, action_space_dims)\n",
    "        )\n",
    "\n",
    "        # Policy Std Dev specific Linear Layer\n",
    "        self.policy_stddev_net = nn.Sequential(\n",
    "            nn.Linear(hidden_space3, action_space_dims)\n",
    "        )\n",
    "\n",
    "    def forward(self, x: torch.Tensor) -> tuple[torch.Tensor, torch.Tensor]:\n",
    "        shared_features = self.shared_net(x.float())\n",
    "\n",
    "        action_means = self.policy_mean_net(shared_features)\n",
    "        action_stddevs = torch.log(\n",
    "            1 + torch.exp(self.policy_stddev_net(shared_features))\n",
    "        )\n",
    "\n",
    "        return action_means, action_stddevs"
   ]
  },
  {
   "cell_type": "code",
   "execution_count": 24,
   "metadata": {},
   "outputs": [
    {
     "name": "stdout",
     "output_type": "stream",
     "text": [
      "Dict('rock_position': Box(0.0, [ 50. 100.], (2,), float32), 'rock_velocity': Box(-1.0, 1.0, (2,), float32), 'ship_position': Box(0.0, [ 50. 100.], (2,), float32), 'ship_velocity': Box(-1.0, 1.0, (2,), float32))\n"
     ]
    }
   ],
   "source": [
    "print(env.observation_space)\n",
    "# print(obs)"
   ]
  },
  {
   "cell_type": "code",
   "execution_count": 25,
   "metadata": {
    "ExecuteTime": {
     "end_time": "2024-05-02T22:23:29.396858Z",
     "start_time": "2024-05-02T22:23:29.389486Z"
    }
   },
   "outputs": [],
   "source": [
    "def merge_obs_space(obs):\n",
    "    obs_space = np.array([50, 25, 1.0, 1.0, 50, 4.0], dtype='float32')\n",
    "    normalization_shift = np.array([-50, -25, 0, 0, -50, 0], dtype='float32')\n",
    "\n",
    "    i = 0\n",
    "    # print(obs)\n",
    "    for item in obs:\n",
    "        for val in obs[item]:\n",
    "            # obs_space = np.append(obs_space, val)\n",
    "            obs_space[i] = (val + normalization_shift[i]) / obs_space[i]\n",
    "            i += 1\n",
    "    return obs_space"
   ]
  },
  {
   "cell_type": "code",
   "execution_count": 26,
   "metadata": {
    "ExecuteTime": {
     "end_time": "2024-05-02T22:23:29.404255Z",
     "start_time": "2024-05-02T22:23:29.397863Z"
    }
   },
   "outputs": [],
   "source": [
    "class REINFORCE:\n",
    "\n",
    "    def __init__(self, gamma, obs_space_dims: int, action_space_dims: int):\n",
    "\n",
    "        # Hyperparameters\n",
    "        self.learning_rate = 0.001  # Learning rate for policy optimization\n",
    "        self.gamma = gamma  # Discount factor\n",
    "\n",
    "        # set the epsilon to 0\n",
    "        self.eps = 0  # small number for mathematical stability\n",
    "\n",
    "        self.probs = []  # Stores probability values of the sampled action\n",
    "        self.rewards = []  # Stores the corresponding rewards\n",
    "\n",
    "        self.net = Policy_Network(obs_space_dims, action_space_dims)\n",
    "        self.optimizer = torch.optim.Adam(self.net.parameters(), lr=self.learning_rate)\n",
    "\n",
    "    def sample_action(self, state: np.ndarray) -> float:\n",
    "        # print(state)\n",
    "        state = torch.tensor(merge_obs_space(state))\n",
    "        # print(state)\n",
    "        action_means, action_stddevs = self.net(state)\n",
    "\n",
    "        # create a normal distribution from the predicted\n",
    "        #   mean and standard deviation and sample an action\n",
    "        distrib = Normal(action_means[0] + self.eps, action_stddevs[0] + self.eps)\n",
    "        action = distrib.sample()\n",
    "        prob = distrib.log_prob(action)\n",
    "\n",
    "        action = action.numpy()\n",
    "        # print(f'{action=}', end='\\n\\n')\n",
    "        self.probs.append(prob)\n",
    "\n",
    "        return action\n",
    "\n",
    "    def update(self):\n",
    "        running_g = 0\n",
    "        gs = []\n",
    "\n",
    "        # Discounted return (backwards) - [::-1] will return an array in reverse\n",
    "        for R in self.rewards[::-1]:\n",
    "            running_g = R + self.gamma * running_g\n",
    "            gs.insert(0, running_g)\n",
    "\n",
    "        deltas = torch.tensor(gs)\n",
    "\n",
    "        loss = 0\n",
    "        # minimize -1 * prob * reward obtained\n",
    "        for log_prob, delta in zip(self.probs, deltas):\n",
    "            loss += log_prob.mean() * delta * (-1)\n",
    "\n",
    "        # Update the policy network\n",
    "        self.optimizer.zero_grad()\n",
    "        loss.backward()\n",
    "        self.optimizer.step()\n",
    "\n",
    "        # Empty / zero out all episode-centric/related variables\n",
    "        self.probs = []\n",
    "        self.rewards = []\n"
   ]
  },
  {
   "cell_type": "code",
   "execution_count": 27,
   "metadata": {
    "ExecuteTime": {
     "end_time": "2024-05-02T22:23:54.460046Z",
     "start_time": "2024-05-02T22:23:29.405261Z"
    }
   },
   "outputs": [
    {
     "name": "stderr",
     "output_type": "stream",
     "text": [
      "c:\\Users\\Karolina\\AppData\\Local\\Programs\\Python\\Python312\\Lib\\site-packages\\gym\\utils\\passive_env_checker.py:165: UserWarning: \u001b[33mWARN: The obs returned by the `reset()` method is not within the observation space.\u001b[0m\n",
      "  logger.warn(f\"{pre} is not within the observation space.\")\n",
      "c:\\Users\\Karolina\\AppData\\Local\\Programs\\Python\\Python312\\Lib\\site-packages\\gym\\utils\\passive_env_checker.py:233: DeprecationWarning: `np.bool8` is a deprecated alias for `np.bool_`.  (Deprecated NumPy 1.24)\n",
      "  if not isinstance(terminated, (bool, np.bool8)):\n",
      "c:\\Users\\Karolina\\AppData\\Local\\Programs\\Python\\Python312\\Lib\\site-packages\\gym\\utils\\passive_env_checker.py:165: UserWarning: \u001b[33mWARN: The obs returned by the `step()` method is not within the observation space.\u001b[0m\n",
      "  logger.warn(f\"{pre} is not within the observation space.\")\n"
     ]
    },
    {
     "name": "stdout",
     "output_type": "stream",
     "text": [
      "Episode: 0 Average Reward: 0\n",
      "Episode: 200 Average Reward: 0\n",
      "Episode: 400 Average Reward: 138\n",
      "Episode: 600 Average Reward: 278\n",
      "Episode: 800 Average Reward: 0\n",
      "Episode: 1000 Average Reward: 0\n",
      "Episode: 1200 Average Reward: 0\n",
      "Episode: 1400 Average Reward: 0\n",
      "Episode: 1600 Average Reward: 0\n",
      "Episode: 1800 Average Reward: 72\n",
      "Episode: 1999 Average Reward: 0\n",
      "Episode: 0 Average Reward: 0\n",
      "Episode: 200 Average Reward: 0\n",
      "Episode: 400 Average Reward: 0\n",
      "Episode: 600 Average Reward: 0\n",
      "Episode: 800 Average Reward: 0\n"
     ]
    }
   ],
   "source": [
    "import gym\n",
    "# Create and wrap the environment\n",
    "wrapped_env = gym.wrappers.RecordEpisodeStatistics(env, 50)  # Records episode-reward\n",
    "\n",
    "\n",
    "total_num_episodes = 1000\n",
    "\n",
    "obs, info  = env.reset()\n",
    "\n",
    "obs_space = merge_obs_space(obs)\n",
    "\n",
    "\n",
    "obs_space_dims = obs_space.shape[0]\n",
    "action_space_dims = env.action_space.shape[0]\n",
    "\n",
    "rewards_over_seeds_1 = []\n",
    "\n",
    "for seed in [777,354]:\n",
    "    torch.manual_seed(seed)\n",
    "    random.seed(seed)\n",
    "    np.random.seed(seed)\n",
    "\n",
    "\n",
    "    agent_1 = REINFORCE(0.9, obs_space_dims, action_space_dims)\n",
    "    reward_over_episodes_1 = []\n",
    "\n",
    "\n",
    "    for episode in range(total_num_episodes):\n",
    "        obs, info = wrapped_env.reset(seed=seed)\n",
    "        \n",
    "\n",
    "        done = False\n",
    "        while not done:\n",
    "            action = agent_1.sample_action(obs)\n",
    "            obs, reward, terminated, truncated, info = wrapped_env.step(np.array([action]))\n",
    "            agent_1.rewards.append(reward)\n",
    "\n",
    "            done = terminated or truncated\n",
    "\n",
    "        reward_over_episodes_1.append(wrapped_env.return_queue[-1])\n",
    "        agent_1.update()\n",
    "\n",
    "        if episode % 50 == 0 or episode == total_num_episodes - 1:\n",
    "            avg_reward = int(np.mean(wrapped_env.return_queue))\n",
    "            print(\"Episode:\", episode, \"Average Reward:\", avg_reward)\n",
    "\n",
    "    rewards_over_seeds_1.append(reward_over_episodes_1)\n",
    "\n",
    "\n",
    "print(\"Training complete.\")"
   ]
  },
  {
   "cell_type": "code",
   "execution_count": null,
   "metadata": {
    "ExecuteTime": {
     "start_time": "2024-05-02T22:23:54.461051Z"
    }
   },
   "outputs": [],
   "source": [
    "import pandas as pd\n",
    "import seaborn as sns"
   ]
  },
  {
   "cell_type": "code",
   "execution_count": null,
   "metadata": {
    "ExecuteTime": {
     "end_time": "2024-05-02T22:23:54.462050Z",
     "start_time": "2024-05-02T22:23:54.462050Z"
    }
   },
   "outputs": [
    {
     "data": {
      "image/png": "[encoded data removed]",
      "text/plain": [
       "<Figure size 500x1000 with 1 Axes>"
      ]
     },
     "metadata": {},
     "output_type": "display_data"
    }
   ],
   "source": [
    "rewards_to_plot_1 = [[reward for reward in rewards] for rewards in rewards_over_seeds_1]\n",
    "df1 = pd.DataFrame(rewards_to_plot_1).melt()\n",
    "df1.rename(columns={\"variable\": \"episodes\", \"value\": \"reward\"}, inplace=True)\n",
    "sns.set(style=\"darkgrid\", context=\"talk\", palette=\"rainbow\")\n",
    "sns.lineplot(x=\"episodes\", y=\"reward\", data=df1).set(\n",
    "    title=\"REINFORCE  for Custom Pong, gamma=0.9\"\n",
    ")\n",
    "plt.show()"
   ]
  },
  {
   "cell_type": "code",
   "execution_count": null,
   "metadata": {},
   "outputs": [
    {
     "name": "stdout",
     "output_type": "stream",
     "text": [
      "Average final reward for gamma=0.9:  2295.0\n"
     ]
    }
   ],
   "source": [
    "#calculate and display average final reward and improvement rate over time for each gamma value\n",
    "\n",
    "final_rewards_1 = [rewards[-1] for rewards in rewards_over_seeds_1]\n",
    "\n",
    "avg_final_reward_1 = np.mean(final_rewards_1)\n",
    "\n",
    "print(\"Average final reward for gamma=0.9: \", avg_final_reward_1)"
   ]
  },
  {
   "cell_type": "code",
   "execution_count": null,
   "metadata": {},
   "outputs": [],
   "source": []
  }
 ],
 "metadata": {
  "kernelspec": {
   "display_name": ".venv",
   "language": "python",
   "name": "python3"
  },
  "language_info": {
   "codemirror_mode": {
    "name": "ipython",
    "version": 3
   },
   "file_extension": ".py",
   "mimetype": "text/x-python",
   "name": "python",
   "nbconvert_exporter": "python",
   "pygments_lexer": "ipython3",
   "version": "3.12.1"
  }
 },
 "nbformat": 4,
 "nbformat_minor": 2
}
