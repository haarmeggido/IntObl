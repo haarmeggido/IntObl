{
 "cells": [
  {
   "cell_type": "code",
   "execution_count": 15,
   "metadata": {},
   "outputs": [],
   "source": [
    "from easyAI import AI_Player, Negamax\n",
    "from easyAI.AI import TranspositionTable\n",
    "from easyAI import TwoPlayerGame\n",
    "import random\n",
    "from tqdm import tqdm"
   ]
  },
  {
   "cell_type": "code",
   "execution_count": 16,
   "metadata": {},
   "outputs": [],
   "source": [
    "class Nim(TwoPlayerGame):\n",
    "    \"\"\"\n",
    "    The game starts with 4 piles of 5 pieces. In turn the players\n",
    "    remove as much pieces as they want, but from one pile only. The\n",
    "    player that removes the last piece loses.\n",
    "\n",
    "    Parameters\n",
    "    ----------\n",
    "\n",
    "    players\n",
    "      List of the two players e.g. [HumanPlayer(), HumanPlayer()]\n",
    "\n",
    "    piles:\n",
    "      The piles the game starts with. With piles=[2,3,4,4] the\n",
    "      game will start with 1 pile of 2 pieces, 1 pile of 3 pieces, and 2\n",
    "      piles of 4 pieces.\n",
    "\n",
    "    max_removals_per_turn\n",
    "      Max number of pieces you can remove in a turn. Default is no limit.\n",
    "\n",
    "    \"\"\"\n",
    "\n",
    "    def __init__(self, players=None, max_removals_per_turn=None, piles=(5, 5, 5, 5)):\n",
    "        \"\"\" Default for `piles` is 5 piles of 5 pieces. \"\"\"\n",
    "        self.players = players\n",
    "        self.piles = list(piles)\n",
    "        self.max_removals_per_turn = max_removals_per_turn\n",
    "        self.current_player = 1  # player 1 starts.\n",
    "\n",
    "    def possible_moves(self):\n",
    "        return [\n",
    "            \"%d,%d\" % (i + 1, j)\n",
    "            for i in range(len(self.piles))\n",
    "            for j in range(\n",
    "                1,\n",
    "                self.piles[i] + 1\n",
    "                if self.max_removals_per_turn is None\n",
    "                else min(self.piles[i] + 1, self.max_removals_per_turn),\n",
    "            )\n",
    "        ]\n",
    "\n",
    "    def make_move(self, move):\n",
    "        move = list(map(int, move.split(\",\")))\n",
    "        self.piles[move[0] - 1] -= move[1]\n",
    "\n",
    "    def unmake_move(self, move):  # optional, speeds up the AI\n",
    "        move = list(map(int, move.split(\",\")))\n",
    "        self.piles[move[0] - 1] += move[1]\n",
    "\n",
    "    def show(self):\n",
    "        print(\" \".join(map(str, self.piles)))\n",
    "\n",
    "    def win(self):\n",
    "        return max(self.piles) == 0\n",
    "\n",
    "    def is_over(self):\n",
    "        return self.win()\n",
    "\n",
    "    def scoring(self):\n",
    "        return 100 if self.win() else 0\n",
    "\n",
    "    def ttentry(self):\n",
    "        return tuple(self.piles)  # optional, speeds up AI"
   ]
  },
  {
   "cell_type": "code",
   "execution_count": 17,
   "metadata": {},
   "outputs": [],
   "source": [
    "class Nimby(TwoPlayerGame):\n",
    "    \"\"\"\n",
    "    The game starts with 4 piles of 5 pieces. In turn the players\n",
    "    remove as much pieces as they want, but from one pile only. The\n",
    "    player that removes the last piece loses.\n",
    "\n",
    "    Parameters\n",
    "    ----------\n",
    "\n",
    "    players\n",
    "      List of the two players e.g. [HumanPlayer(), HumanPlayer()]\n",
    "\n",
    "    piles:\n",
    "      The piles the game starts with. With piles=[2,3,4,4] the\n",
    "      game will start with 1 pile of 2 pieces, 1 pile of 3 pieces, and 2\n",
    "      piles of 4 pieces.\n",
    "\n",
    "    max_removals_per_turn\n",
    "      Max number of pieces you can remove in a turn. Default is no limit.\n",
    "\n",
    "    \"\"\"\n",
    "\n",
    "    def __init__(self, players=None, max_removals_per_turn=None, piles=(5, 5, 5, 5)):\n",
    "        \"\"\" Default for `piles` is 5 piles of 5 pieces. \"\"\"\n",
    "        self.players = players\n",
    "        self.piles = list(piles)\n",
    "        self.max_removals_per_turn = max_removals_per_turn\n",
    "        self.current_player = 1  # player 1 starts.\n",
    "\n",
    "    def possible_moves(self):\n",
    "        return [\n",
    "            \"%d,%d\" % (i + 1, j)\n",
    "            for i in range(len(self.piles))\n",
    "            for j in range(\n",
    "                1,\n",
    "                self.piles[i] + 1\n",
    "                if self.max_removals_per_turn is None\n",
    "                else min(self.piles[i] + 1, self.max_removals_per_turn),\n",
    "            )\n",
    "        ]\n",
    "\n",
    "    def make_move(self, move):\n",
    "        move = list(map(int, move.split(\",\")))\n",
    "        chance = random.randint(0, 100)\n",
    "\n",
    "        #10 percent chance to take one less from the pile than the move\n",
    "        if chance < 10:\n",
    "            move[1] = max(move[1] - 1,0)\n",
    "            self.piles[move[0] - 1] -= move[1]\n",
    "        else:\n",
    "            self.piles[move[0] - 1] -= move[1]\n",
    "\n",
    "    ### unmake move zacina program próbując odrobićruch którego nie było, w przypadku gdy natrafi na te 10% zmniejszające o 1\n",
    "    # def unmake_move(self, move):  # optional, speeds up the AI\n",
    "    #     move = list(map(int, move.split(\",\")))\n",
    "    #     self.piles[move[0] - 1] += move[1]\n",
    "\n",
    "    def show(self):\n",
    "        print(\" \".join(map(str, self.piles)))\n",
    "\n",
    "    def win(self):\n",
    "        return max(self.piles) == 0\n",
    "\n",
    "    def is_over(self):\n",
    "        return self.win()\n",
    "\n",
    "    def scoring(self):\n",
    "        return 100 if self.win() else 0\n",
    "\n",
    "    def ttentry(self):\n",
    "        return tuple(self.piles)  # optional, speeds up AI"
   ]
  },
  {
   "cell_type": "markdown",
   "metadata": {},
   "source": [
    "### Negamax algorithm\n",
    "\n",
    "Przeprowadzenie grupy 10 gier między AI o różnych ustawieniach głębokości za pomocą silnika Negamax:\n",
    "\n",
    "1. Deterministyczny, głębokości 3,4\n",
    "2. Niedeterministyczny, głębokości 3,4\n",
    "3. Deterministyczny, głębokości 6,7\n",
    "4. Niederministyczny, głębokości 6,7"
   ]
  },
  {
   "cell_type": "code",
   "execution_count": 18,
   "metadata": {},
   "outputs": [
    {
     "name": "stderr",
     "output_type": "stream",
     "text": [
      "100%|██████████| 20/20 [00:04<00:00,  4.43it/s]"
     ]
    },
    {
     "name": "stdout",
     "output_type": "stream",
     "text": [
      "Player 1 wins: 10, Player 2 wins: 10\n"
     ]
    },
    {
     "name": "stderr",
     "output_type": "stream",
     "text": [
      "\n"
     ]
    }
   ],
   "source": [
    "## 1\n",
    "results = [0, 0]\n",
    "ai1 = Negamax(3, tt=TranspositionTable())\n",
    "ai2 = Negamax(4, tt=TranspositionTable())\n",
    "\n",
    "# initiate ten games with alternating first player using tqdm for progress bar\n",
    "for i in tqdm(range(20)):\n",
    "    if i % 2 == 0:\n",
    "        game = Nim([AI_Player(ai1), AI_Player(ai2)])\n",
    "    else:\n",
    "        game = Nim([AI_Player(ai2), AI_Player(ai1)])\n",
    "    game.play()\n",
    "    results[game.current_player - 1] += 1\n",
    "\n",
    "print(\"Player 1 wins: %d, Player 2 wins: %d\" % tuple(results))\n"
   ]
  },
  {
   "cell_type": "code",
   "execution_count": 19,
   "metadata": {},
   "outputs": [
    {
     "name": "stderr",
     "output_type": "stream",
     "text": [
      "  0%|          | 0/20 [00:00<?, ?it/s]"
     ]
    },
    {
     "name": "stderr",
     "output_type": "stream",
     "text": [
      "100%|██████████| 20/20 [00:33<00:00,  1.69s/it]"
     ]
    },
    {
     "name": "stdout",
     "output_type": "stream",
     "text": [
      "Player 1 wins: 14, Player 2 wins: 6\n"
     ]
    },
    {
     "name": "stderr",
     "output_type": "stream",
     "text": [
      "\n"
     ]
    }
   ],
   "source": [
    "## 2 \n",
    "results = [0, 0]\n",
    "ai1 = Negamax(3, tt=TranspositionTable())\n",
    "ai2 = Negamax(4, tt=TranspositionTable())\n",
    "\n",
    "# initiate ten games with alternating first player using tqdm for progress bar\n",
    "for i in tqdm(range(20)):\n",
    "    if i % 2 == 0:\n",
    "        game = Nimby([AI_Player(ai1), AI_Player(ai2)])\n",
    "    else:\n",
    "        game = Nimby([AI_Player(ai2), AI_Player(ai1)])\n",
    "    game.play()\n",
    "    results[game.current_player - 1] += 1\n",
    "\n",
    "print(\"Player 1 wins: %d, Player 2 wins: %d\" % tuple(results))"
   ]
  },
  {
   "cell_type": "code",
   "execution_count": 20,
   "metadata": {},
   "outputs": [
    {
     "name": "stderr",
     "output_type": "stream",
     "text": [
      "100%|██████████| 20/20 [00:10<00:00,  1.90it/s]"
     ]
    },
    {
     "name": "stdout",
     "output_type": "stream",
     "text": [
      "Player 1 wins: 0, Player 2 wins: 20\n"
     ]
    },
    {
     "name": "stderr",
     "output_type": "stream",
     "text": [
      "\n"
     ]
    }
   ],
   "source": [
    "results = [0, 0]\n",
    "ai1 = Negamax(6, tt=TranspositionTable())\n",
    "ai2 = Negamax(7, tt=TranspositionTable())\n",
    "\n",
    "# initiate ten games with alternating first player using tqdm for progress bar\n",
    "for i in tqdm(range(20)):\n",
    "    if i % 2 == 0:\n",
    "        game = Nim([AI_Player(ai1), AI_Player(ai2)])\n",
    "    else:\n",
    "        game = Nim([AI_Player(ai2), AI_Player(ai1)])\n",
    "    game.play()\n",
    "    results[game.current_player - 1] += 1\n",
    "\n",
    "print(\"Player 1 wins: %d, Player 2 wins: %d\" % tuple(results))"
   ]
  },
  {
   "cell_type": "code",
   "execution_count": 25,
   "metadata": {},
   "outputs": [
    {
     "name": "stderr",
     "output_type": "stream",
     "text": [
      "  0%|          | 0/20 [00:00<?, ?it/s]"
     ]
    },
    {
     "name": "stderr",
     "output_type": "stream",
     "text": [
      "100%|██████████| 20/20 [12:30<00:00, 37.52s/it]  "
     ]
    },
    {
     "name": "stdout",
     "output_type": "stream",
     "text": [
      "Player 1 wins: 10, Player 2 wins: 10\n"
     ]
    },
    {
     "name": "stderr",
     "output_type": "stream",
     "text": [
      "\n"
     ]
    }
   ],
   "source": [
    "results = [0, 0]\n",
    "ai1 = Negamax(6, tt=TranspositionTable())\n",
    "ai2 = Negamax(7, tt=TranspositionTable())\n",
    "\n",
    "# initiate ten games with alternating first player using tqdm for progress bar\n",
    "for i in tqdm(range(20)):\n",
    "    if i % 2 == 0:\n",
    "        game = Nimby([AI_Player(ai1), AI_Player(ai2)])\n",
    "    else:\n",
    "        game = Nimby([AI_Player(ai2), AI_Player(ai1)])\n",
    "    game.play()\n",
    "    results[game.current_player - 1] += 1\n",
    "\n",
    "print(\"Player 1 wins: %d, Player 2 wins: %d\" % tuple(results))"
   ]
  },
  {
   "cell_type": "markdown",
   "metadata": {},
   "source": [
    "### Here to plot the data and tables and stuff"
   ]
  },
  {
   "cell_type": "code",
   "execution_count": null,
   "metadata": {},
   "outputs": [],
   "source": [
    "pass"
   ]
  },
  {
   "cell_type": "markdown",
   "metadata": {},
   "source": [
    "## Algorithm comparison\n",
    "\n",
    "Each one called to the probabilistic and deterministic version on NIM game\n",
    "\n",
    "1. Negamax without alpha pruning\n",
    "2. Negamax with alpha pruming\n",
    "3. Secret, third algorithm\n",
    "\n",
    "Add code to the algorithms calculating the average time taken between each move"
   ]
  },
  {
   "cell_type": "code",
   "execution_count": 27,
   "metadata": {},
   "outputs": [
    {
     "name": "stderr",
     "output_type": "stream",
     "text": [
      "100%|██████████| 20/20 [07:52<00:00, 23.62s/it]  "
     ]
    },
    {
     "name": "stdout",
     "output_type": "stream",
     "text": [
      "Player 1 wins: 9, Player 2 wins: 11\n"
     ]
    },
    {
     "name": "stderr",
     "output_type": "stream",
     "text": [
      "\n"
     ]
    }
   ],
   "source": [
    "## 1\n",
    "results = [0, 0]\n",
    "ai1 = Negamax(6, tt=TranspositionTable())\n",
    "ai2 = Negamax(6, tt=TranspositionTable())\n",
    "\n",
    "# initiate ten games with alternating first player using tqdm for progress bar\n",
    "for i in tqdm(range(20)):\n",
    "    if i % 2 == 0:\n",
    "        game = Nimby([AI_Player(ai1), AI_Player(ai2)])\n",
    "    else:\n",
    "        game = Nimby([AI_Player(ai2), AI_Player(ai1)])\n",
    "    game.play()\n",
    "    results[game.current_player - 1] += 1\n",
    "\n",
    "print(\"Player 1 wins: %d, Player 2 wins: %d\" % tuple(results))"
   ]
  },
  {
   "cell_type": "code",
   "execution_count": 26,
   "metadata": {},
   "outputs": [
    {
     "name": "stderr",
     "output_type": "stream",
     "text": [
      "100%|██████████| 20/20 [06:18<00:00, 18.94s/it]  "
     ]
    },
    {
     "name": "stdout",
     "output_type": "stream",
     "text": [
      "Player 1 wins: 7, Player 2 wins: 13\n"
     ]
    },
    {
     "name": "stderr",
     "output_type": "stream",
     "text": [
      "\n"
     ]
    }
   ],
   "source": [
    "## 1 \n",
    "results = [0, 0]\n",
    "ai1 = Negamax(6, tt=TranspositionTable())\n",
    "ai2 = Negamax(6, tt=TranspositionTable())\n",
    "\n",
    "# initiate ten games with alternating first player using tqdm for progress bar\n",
    "for i in tqdm(range(20)):\n",
    "    if i % 2 == 0:\n",
    "        game = Nimby([AI_Player(ai1), AI_Player(ai2)])\n",
    "    else:\n",
    "        game = Nimby([AI_Player(ai2), AI_Player(ai1)])\n",
    "    game.play()\n",
    "    results[game.current_player - 1] += 1\n",
    "\n",
    "print(\"Player 1 wins: %d, Player 2 wins: %d\" % tuple(results))\n"
   ]
  }
 ],
 "metadata": {
  "kernelspec": {
   "display_name": "Python 3",
   "language": "python",
   "name": "python3"
  },
  "language_info": {
   "codemirror_mode": {
    "name": "ipython",
    "version": 3
   },
   "file_extension": ".py",
   "mimetype": "text/x-python",
   "name": "python",
   "nbconvert_exporter": "python",
   "pygments_lexer": "ipython3",
   "version": "3.12.0"
  }
 },
 "nbformat": 4,
 "nbformat_minor": 2
}
