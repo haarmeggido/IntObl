{
 "cells": [
  {
   "cell_type": "code",
   "execution_count": 27,
   "id": "initial_id",
   "metadata": {
    "collapsed": true,
    "ExecuteTime": {
     "end_time": "2024-04-14T18:30:51.151113Z",
     "start_time": "2024-04-14T18:30:38.379924Z"
    }
   },
   "outputs": [
    {
     "name": "stdout",
     "output_type": "stream",
     "text": [
      "Requirement already satisfied: gymnasium in c:\\users\\domin\\.conda\\envs\\ioadc\\lib\\site-packages (0.29.1)\n",
      "Requirement already satisfied: numpy>=1.21.0 in c:\\users\\domin\\.conda\\envs\\ioadc\\lib\\site-packages (from gymnasium) (1.26.4)\n",
      "Requirement already satisfied: cloudpickle>=1.2.0 in c:\\users\\domin\\.conda\\envs\\ioadc\\lib\\site-packages (from gymnasium) (3.0.0)\n",
      "Requirement already satisfied: typing-extensions>=4.3.0 in c:\\users\\domin\\.conda\\envs\\ioadc\\lib\\site-packages (from gymnasium) (4.11.0)\n",
      "Requirement already satisfied: farama-notifications>=0.0.1 in c:\\users\\domin\\.conda\\envs\\ioadc\\lib\\site-packages (from gymnasium) (0.0.4)\n",
      "Note: you may need to restart the kernel to use updated packages.\n",
      "Requirement already satisfied: gymnasium[toy-text] in c:\\users\\domin\\.conda\\envs\\ioadc\\lib\\site-packages (0.29.1)\n",
      "Requirement already satisfied: numpy>=1.21.0 in c:\\users\\domin\\.conda\\envs\\ioadc\\lib\\site-packages (from gymnasium[toy-text]) (1.26.4)\n",
      "Requirement already satisfied: cloudpickle>=1.2.0 in c:\\users\\domin\\.conda\\envs\\ioadc\\lib\\site-packages (from gymnasium[toy-text]) (3.0.0)\n",
      "Requirement already satisfied: typing-extensions>=4.3.0 in c:\\users\\domin\\.conda\\envs\\ioadc\\lib\\site-packages (from gymnasium[toy-text]) (4.11.0)\n",
      "Requirement already satisfied: farama-notifications>=0.0.1 in c:\\users\\domin\\.conda\\envs\\ioadc\\lib\\site-packages (from gymnasium[toy-text]) (0.0.4)\n",
      "Requirement already satisfied: pygame>=2.1.3 in c:\\users\\domin\\.conda\\envs\\ioadc\\lib\\site-packages (from gymnasium[toy-text]) (2.5.2)\n",
      "Note: you may need to restart the kernel to use updated packages.\n",
      "Requirement already satisfied: torch in c:\\users\\domin\\.conda\\envs\\ioadc\\lib\\site-packages (2.2.2+cu121)\n",
      "Requirement already satisfied: filelock in c:\\users\\domin\\.conda\\envs\\ioadc\\lib\\site-packages (from torch) (3.13.3)\n",
      "Requirement already satisfied: typing-extensions>=4.8.0 in c:\\users\\domin\\.conda\\envs\\ioadc\\lib\\site-packages (from torch) (4.11.0)\n",
      "Requirement already satisfied: sympy in c:\\users\\domin\\.conda\\envs\\ioadc\\lib\\site-packages (from torch) (1.12)\n",
      "Requirement already satisfied: networkx in c:\\users\\domin\\.conda\\envs\\ioadc\\lib\\site-packages (from torch) (3.3)\n",
      "Requirement already satisfied: jinja2 in c:\\users\\domin\\.conda\\envs\\ioadc\\lib\\site-packages (from torch) (3.1.2)\n",
      "Requirement already satisfied: fsspec in c:\\users\\domin\\.conda\\envs\\ioadc\\lib\\site-packages (from torch) (2024.3.1)\n",
      "Requirement already satisfied: MarkupSafe>=2.0 in c:\\users\\domin\\.conda\\envs\\ioadc\\lib\\site-packages (from jinja2->torch) (2.1.1)\n",
      "Requirement already satisfied: mpmath>=0.19 in c:\\users\\domin\\.conda\\envs\\ioadc\\lib\\site-packages (from sympy->torch) (1.3.0)\n",
      "Note: you may need to restart the kernel to use updated packages.\n",
      "Requirement already satisfied: torchvision in c:\\users\\domin\\.conda\\envs\\ioadc\\lib\\site-packages (0.17.2+cu121)\n",
      "Requirement already satisfied: numpy in c:\\users\\domin\\.conda\\envs\\ioadc\\lib\\site-packages (from torchvision) (1.26.4)\n",
      "Requirement already satisfied: torch==2.2.2+cu121 in c:\\users\\domin\\.conda\\envs\\ioadc\\lib\\site-packages (from torchvision) (2.2.2+cu121)\n",
      "Requirement already satisfied: pillow!=8.3.*,>=5.3.0 in c:\\users\\domin\\.conda\\envs\\ioadc\\lib\\site-packages (from torchvision) (10.2.0)\n",
      "Requirement already satisfied: filelock in c:\\users\\domin\\.conda\\envs\\ioadc\\lib\\site-packages (from torch==2.2.2+cu121->torchvision) (3.13.3)\n",
      "Requirement already satisfied: typing-extensions>=4.8.0 in c:\\users\\domin\\.conda\\envs\\ioadc\\lib\\site-packages (from torch==2.2.2+cu121->torchvision) (4.11.0)\n",
      "Requirement already satisfied: sympy in c:\\users\\domin\\.conda\\envs\\ioadc\\lib\\site-packages (from torch==2.2.2+cu121->torchvision) (1.12)\n",
      "Requirement already satisfied: networkx in c:\\users\\domin\\.conda\\envs\\ioadc\\lib\\site-packages (from torch==2.2.2+cu121->torchvision) (3.3)\n",
      "Requirement already satisfied: jinja2 in c:\\users\\domin\\.conda\\envs\\ioadc\\lib\\site-packages (from torch==2.2.2+cu121->torchvision) (3.1.2)\n",
      "Requirement already satisfied: fsspec in c:\\users\\domin\\.conda\\envs\\ioadc\\lib\\site-packages (from torch==2.2.2+cu121->torchvision) (2024.3.1)\n",
      "Requirement already satisfied: MarkupSafe>=2.0 in c:\\users\\domin\\.conda\\envs\\ioadc\\lib\\site-packages (from jinja2->torch==2.2.2+cu121->torchvision) (2.1.1)\n",
      "Requirement already satisfied: mpmath>=0.19 in c:\\users\\domin\\.conda\\envs\\ioadc\\lib\\site-packages (from sympy->torch==2.2.2+cu121->torchvision) (1.3.0)\n",
      "Note: you may need to restart the kernel to use updated packages.\n",
      "Requirement already satisfied: torchaudio in c:\\users\\domin\\.conda\\envs\\ioadc\\lib\\site-packages (2.2.2+cu121)\n",
      "Requirement already satisfied: torch==2.2.2+cu121 in c:\\users\\domin\\.conda\\envs\\ioadc\\lib\\site-packages (from torchaudio) (2.2.2+cu121)\n",
      "Requirement already satisfied: filelock in c:\\users\\domin\\.conda\\envs\\ioadc\\lib\\site-packages (from torch==2.2.2+cu121->torchaudio) (3.13.3)\n",
      "Requirement already satisfied: typing-extensions>=4.8.0 in c:\\users\\domin\\.conda\\envs\\ioadc\\lib\\site-packages (from torch==2.2.2+cu121->torchaudio) (4.11.0)\n",
      "Requirement already satisfied: sympy in c:\\users\\domin\\.conda\\envs\\ioadc\\lib\\site-packages (from torch==2.2.2+cu121->torchaudio) (1.12)\n",
      "Requirement already satisfied: networkx in c:\\users\\domin\\.conda\\envs\\ioadc\\lib\\site-packages (from torch==2.2.2+cu121->torchaudio) (3.3)\n",
      "Requirement already satisfied: jinja2 in c:\\users\\domin\\.conda\\envs\\ioadc\\lib\\site-packages (from torch==2.2.2+cu121->torchaudio) (3.1.2)\n",
      "Requirement already satisfied: fsspec in c:\\users\\domin\\.conda\\envs\\ioadc\\lib\\site-packages (from torch==2.2.2+cu121->torchaudio) (2024.3.1)\n",
      "Requirement already satisfied: MarkupSafe>=2.0 in c:\\users\\domin\\.conda\\envs\\ioadc\\lib\\site-packages (from jinja2->torch==2.2.2+cu121->torchaudio) (2.1.1)\n",
      "Requirement already satisfied: mpmath>=0.19 in c:\\users\\domin\\.conda\\envs\\ioadc\\lib\\site-packages (from sympy->torch==2.2.2+cu121->torchaudio) (1.3.0)\n",
      "Note: you may need to restart the kernel to use updated packages.\n",
      "Requirement already satisfied: numpy in c:\\users\\domin\\.conda\\envs\\ioadc\\lib\\site-packages (1.26.4)\n",
      "Note: you may need to restart the kernel to use updated packages.\n",
      "Requirement already satisfied: matplotlib in c:\\users\\domin\\.conda\\envs\\ioadc\\lib\\site-packages (3.8.3)\n",
      "Requirement already satisfied: contourpy>=1.0.1 in c:\\users\\domin\\appdata\\roaming\\python\\python312\\site-packages (from matplotlib) (1.2.0)\n",
      "Requirement already satisfied: cycler>=0.10 in c:\\users\\domin\\appdata\\roaming\\python\\python312\\site-packages (from matplotlib) (0.12.1)\n",
      "Requirement already satisfied: fonttools>=4.22.0 in c:\\users\\domin\\.conda\\envs\\ioadc\\lib\\site-packages (from matplotlib) (4.49.0)\n",
      "Requirement already satisfied: kiwisolver>=1.3.1 in c:\\users\\domin\\.conda\\envs\\ioadc\\lib\\site-packages (from matplotlib) (1.4.5)\n",
      "Requirement already satisfied: numpy<2,>=1.21 in c:\\users\\domin\\.conda\\envs\\ioadc\\lib\\site-packages (from matplotlib) (1.26.4)\n",
      "Requirement already satisfied: packaging>=20.0 in c:\\users\\domin\\.conda\\envs\\ioadc\\lib\\site-packages (from matplotlib) (23.1)\n",
      "Requirement already satisfied: pillow>=8 in c:\\users\\domin\\.conda\\envs\\ioadc\\lib\\site-packages (from matplotlib) (10.2.0)\n",
      "Requirement already satisfied: pyparsing>=2.3.1 in c:\\users\\domin\\.conda\\envs\\ioadc\\lib\\site-packages (from matplotlib) (3.1.1)\n",
      "Requirement already satisfied: python-dateutil>=2.7 in c:\\users\\domin\\.conda\\envs\\ioadc\\lib\\site-packages (from matplotlib) (2.8.2)\n",
      "Requirement already satisfied: six>=1.5 in c:\\users\\domin\\.conda\\envs\\ioadc\\lib\\site-packages (from python-dateutil>=2.7->matplotlib) (1.16.0)\n",
      "Note: you may need to restart the kernel to use updated packages.\n"
     ]
    }
   ],
   "source": [
    "%pip install gymnasium\n",
    "%pip install gymnasium[toy-text]\n",
    "\n",
    "%pip install torch\n",
    "%pip install torchvision\n",
    "%pip install torchaudio\n",
    "# %pip install torch torchvision torchaudio --index-url https://download.pytorch.org/whl/cu121\n",
    "\n",
    "%pip install numpy\n",
    "%pip install matplotlib"
   ]
  },
  {
   "cell_type": "code",
   "outputs": [],
   "source": [
    "import numpy as np\n",
    "import matplotlib.pyplot as plt"
   ],
   "metadata": {
    "collapsed": false,
    "ExecuteTime": {
     "end_time": "2024-04-14T18:30:51.154682Z",
     "start_time": "2024-04-14T18:30:51.152121Z"
    }
   },
   "id": "f52c7c291cbc978",
   "execution_count": 28
  },
  {
   "cell_type": "markdown",
   "source": [
    "## Environment\n",
    "\n",
    "Użyłem dokładnie takiego samego środowiska jak w pliku `main.ipynb` poprzez zutylizowanie zmiennej `RANDOM_STATE`"
   ],
   "metadata": {
    "collapsed": false
   },
   "id": "4d682475b467316e"
  },
  {
   "cell_type": "code",
   "outputs": [],
   "source": [
    "from typing import Final\n",
    "\n",
    "DISCOUNT_FACTOR: Final[float] = 0.9\n",
    "RANDOM_STATE: Final[int] = 42\n",
    "EPISODES: Final[int] = 10_000"
   ],
   "metadata": {
    "collapsed": false,
    "ExecuteTime": {
     "end_time": "2024-04-14T18:30:51.168623Z",
     "start_time": "2024-04-14T18:30:51.155690Z"
    }
   },
   "id": "7069116055212faf",
   "execution_count": 29
  },
  {
   "cell_type": "code",
   "outputs": [],
   "source": [
    "from gymnasium import make\n",
    "from gymnasium.envs.toy_text.frozen_lake import generate_random_map\n",
    "\n",
    "# Default simulation\n",
    "env = make(\"FrozenLake-v1\", desc=generate_random_map(4, 0.8, RANDOM_STATE), is_slippery=False)"
   ],
   "metadata": {
    "collapsed": false,
    "ExecuteTime": {
     "end_time": "2024-04-14T18:30:51.184320Z",
     "start_time": "2024-04-14T18:30:51.169632Z"
    }
   },
   "id": "b0ad133873d0313",
   "execution_count": 30
  },
  {
   "cell_type": "code",
   "outputs": [],
   "source": [
    "num_states: int = env.observation_space.n\n",
    "num_actions: int = env.action_space.n"
   ],
   "metadata": {
    "collapsed": false,
    "ExecuteTime": {
     "end_time": "2024-04-14T18:30:51.195480Z",
     "start_time": "2024-04-14T18:30:51.185331Z"
    }
   },
   "id": "bc695b9443e2ee7d",
   "execution_count": 31
  },
  {
   "cell_type": "markdown",
   "source": [
    "## Deep Q-Network (DQN)"
   ],
   "metadata": {
    "collapsed": false
   },
   "id": "b1186594feeefda2"
  },
  {
   "cell_type": "code",
   "outputs": [],
   "source": [
    "import torch\n",
    "from torch.nn import Module, Linear, MSELoss\n",
    "from torch.nn.functional import relu\n",
    "\n",
    "\n",
    "class DeepQNetwork(Module):\n",
    "    def __init__(self, in_states: int = 16, h1_nodes: int = 32, out_actions: int = 4) -> None:\n",
    "        super().__init__()\n",
    "\n",
    "        self.layer1: Linear = Linear(in_states, h1_nodes)\n",
    "        self.layer2: Linear = Linear(h1_nodes, h1_nodes)\n",
    "        self.output_layer: Linear = Linear(h1_nodes, out_actions)\n",
    "\n",
    "    def forward(self, x):\n",
    "        return self.output_layer(\n",
    "            relu(\n",
    "                self.layer2(\n",
    "                    relu(\n",
    "                        self.layer1(x)\n",
    "                    )\n",
    "                )\n",
    "            )\n",
    "        )"
   ],
   "metadata": {
    "collapsed": false,
    "ExecuteTime": {
     "end_time": "2024-04-14T18:30:51.207615Z",
     "start_time": "2024-04-14T18:30:51.196490Z"
    }
   },
   "id": "4918c0c333f9472f",
   "execution_count": 32
  },
  {
   "cell_type": "code",
   "outputs": [],
   "source": [
    "def to_tensor(state) -> torch.Tensor:\n",
    "    tensor = torch.zeros(num_states)\n",
    "    tensor[state] = 1.\n",
    "    return tensor"
   ],
   "metadata": {
    "collapsed": false,
    "ExecuteTime": {
     "end_time": "2024-04-14T18:30:51.219598Z",
     "start_time": "2024-04-14T18:30:51.208621Z"
    }
   },
   "id": "eca997e52593b5f0",
   "execution_count": 33
  },
  {
   "cell_type": "code",
   "outputs": [],
   "source": [
    "from collections import deque\n",
    "from random import sample, random\n",
    "\n",
    "class Memory:\n",
    "    def __init__(self, max_len: int) -> None:\n",
    "        self.memory: deque = deque([], maxlen=max_len)\n",
    "\n",
    "    def append(self, transition) -> None:\n",
    "        self.memory.append(transition)\n",
    "\n",
    "    def sample(self, sample_size: int):\n",
    "        return sample(self.memory, sample_size)\n",
    "\n",
    "    def __len__(self) -> int:\n",
    "        return len(self.memory)"
   ],
   "metadata": {
    "collapsed": false,
    "ExecuteTime": {
     "end_time": "2024-04-14T18:30:51.231891Z",
     "start_time": "2024-04-14T18:30:51.220605Z"
    }
   },
   "id": "70e9b0304d69c3b0",
   "execution_count": 34
  },
  {
   "cell_type": "code",
   "outputs": [
    {
     "data": {
      "text/plain": "<All keys matched successfully>"
     },
     "execution_count": 35,
     "metadata": {},
     "output_type": "execute_result"
    }
   ],
   "source": [
    "memory: Memory = Memory(1_024)\n",
    "\n",
    "policy: DeepQNetwork = DeepQNetwork(num_states, 32, num_actions)\n",
    "target: DeepQNetwork = DeepQNetwork(num_states, 32, num_actions)\n",
    "\n",
    "target.load_state_dict(policy.state_dict())"
   ],
   "metadata": {
    "collapsed": false,
    "ExecuteTime": {
     "end_time": "2024-04-14T18:30:51.250321Z",
     "start_time": "2024-04-14T18:30:51.232905Z"
    }
   },
   "id": "aeab6ef24fbe2fc4",
   "execution_count": 35
  },
  {
   "cell_type": "code",
   "outputs": [],
   "source": [
    "from torch.optim import Adam\n",
    "\n",
    "optimizer: Adam = Adam(policy.parameters(), lr=0.02)\n",
    "\n",
    "rewards_per_episode = np.zeros(EPISODES)\n",
    "\n",
    "epsilon: float = 1.\n",
    "step_count: int = 0"
   ],
   "metadata": {
    "collapsed": false,
    "ExecuteTime": {
     "end_time": "2024-04-14T18:30:51.260693Z",
     "start_time": "2024-04-14T18:30:51.252331Z"
    }
   },
   "id": "d8ecb53c72bc8dd6",
   "execution_count": 36
  },
  {
   "cell_type": "code",
   "outputs": [],
   "source": [
    "from torch import FloatTensor\n",
    "\n",
    "for i in range(EPISODES):\n",
    "    state = env.reset()[0]\n",
    "\n",
    "    while True:\n",
    "        if random() < epsilon:\n",
    "            action = env.action_space.sample()\n",
    "        else:          \n",
    "            with torch.no_grad():\n",
    "                action = policy(to_tensor(state)).argmax().item()\n",
    "\n",
    "        new_state, reward, terminated, truncated, _ = env.step(action)\n",
    "        memory.append((state, action, new_state, reward, terminated))\n",
    "\n",
    "        state = new_state\n",
    "\n",
    "        step_count += 1\n",
    "        \n",
    "        if terminated or truncated:\n",
    "            break\n",
    "\n",
    "    if reward == 1:\n",
    "        rewards_per_episode[i] = 1.\n",
    "\n",
    "    if len(memory) > 64 and np.sum(rewards_per_episode) > 0:\n",
    "        mini_batch = memory.sample(64)\n",
    "\n",
    "        current_q_list = []\n",
    "        target_q_list = []\n",
    "\n",
    "        for state, action, new_state, reward, terminated in mini_batch:\n",
    "            if terminated:\n",
    "                target_tensor = FloatTensor([reward])\n",
    "            else:\n",
    "                with torch.no_grad():\n",
    "                    target_tensor = FloatTensor(\n",
    "                        reward + DISCOUNT_FACTOR * target(to_tensor(new_state)).max()\n",
    "                    )\n",
    "\n",
    "            current_q = policy(to_tensor(state))\n",
    "            current_q_list.append(current_q)\n",
    "\n",
    "            target_q = target(to_tensor(state))\n",
    "            target_q[action] = target_tensor\n",
    "            target_q_list.append(target_q)\n",
    "\n",
    "        loss = MSELoss()(torch.stack(current_q_list), torch.stack(target_q_list))\n",
    "\n",
    "        optimizer.zero_grad()\n",
    "        loss.backward()\n",
    "        optimizer.step()\n",
    "\n",
    "        epsilon = max(epsilon - 1 / EPISODES, 0)\n",
    "\n",
    "        if step_count > 10:\n",
    "            target.load_state_dict(policy.state_dict())\n",
    "            step_count = 0"
   ],
   "metadata": {
    "collapsed": false,
    "ExecuteTime": {
     "end_time": "2024-04-14T18:34:30.110395Z",
     "start_time": "2024-04-14T18:30:51.262705Z"
    }
   },
   "id": "914a1f7d3482b24e",
   "execution_count": 37
  },
  {
   "cell_type": "code",
   "outputs": [
    {
     "data": {
      "text/plain": "<Figure size 1200x500 with 1 Axes>",
      "image/png": "[encoded data removed]"
     },
     "metadata": {},
     "output_type": "display_data"
    }
   ],
   "source": [
    "plt.figure(1, figsize=(12, 5))\n",
    "plt.title(\"Frozen Lake, Deep Q Network with epsilon greedy approach\")\n",
    "plt.xlabel(\"Episode number\")\n",
    "plt.ylabel(\"Score\")\n",
    "\n",
    "sum_rewards = np.zeros(EPISODES)\n",
    "for x in range(EPISODES):\n",
    "    sum_rewards[x] = np.sum(rewards_per_episode[max(0, x - 100): (x + 1)] / 100)\n",
    "plt.subplot(111)\n",
    "plt.plot(sum_rewards)\n",
    "plt.show()"
   ],
   "metadata": {
    "collapsed": false,
    "ExecuteTime": {
     "end_time": "2024-04-14T18:34:30.236510Z",
     "start_time": "2024-04-14T18:34:30.111408Z"
    }
   },
   "id": "23addcea3f60e553",
   "execution_count": 38
  },
  {
   "cell_type": "code",
   "outputs": [
    {
     "name": "stdout",
     "output_type": "stream",
     "text": [
      "0.0050999999999999995\n",
      "0.34715199999999996\n",
      "0.9199999999999999\n"
     ]
    }
   ],
   "source": [
    "print(np.sum(sum_rewards[:1_000]) / 1_000)\n",
    "print(np.sum(sum_rewards) / EPISODES)\n",
    "print(sum_rewards[-1])"
   ],
   "metadata": {
    "collapsed": false,
    "ExecuteTime": {
     "end_time": "2024-04-14T18:34:30.240828Z",
     "start_time": "2024-04-14T18:34:30.237515Z"
    }
   },
   "id": "a2dca2dbd0479f69",
   "execution_count": 39
  },
  {
   "cell_type": "markdown",
   "source": [
    "## SARSA"
   ],
   "metadata": {
    "collapsed": false
   },
   "id": "3367bb68f99b8f17"
  },
  {
   "cell_type": "code",
   "outputs": [
    {
     "data": {
      "text/plain": "array([[2.66357922e-05, 2.54194882e-05, 2.55037484e-05, 2.62524572e-05],\n       [9.91774373e-04, 0.00000000e+00, 0.00000000e+00, 1.15319140e-03],\n       [0.00000000e+00, 0.00000000e+00, 0.00000000e+00, 0.00000000e+00],\n       [0.00000000e+00, 0.00000000e+00, 0.00000000e+00, 0.00000000e+00],\n       [4.53685076e-05, 1.49302109e-05, 0.00000000e+00, 4.56453882e-05],\n       [0.00000000e+00, 0.00000000e+00, 0.00000000e+00, 0.00000000e+00],\n       [0.00000000e+00, 4.54130620e-01, 4.68706099e-04, 0.00000000e+00],\n       [7.20414839e-03, 0.00000000e+00, 8.00460932e-04, 0.00000000e+00],\n       [2.60622980e-04, 2.10866767e-05, 5.44643322e-04, 4.78429282e-06],\n       [4.08089837e-03, 0.00000000e+00, 3.25512890e-06, 0.00000000e+00],\n       [4.07173787e-08, 6.12910474e-01, 0.00000000e+00, 2.80395084e-01],\n       [0.00000000e+00, 0.00000000e+00, 0.00000000e+00, 0.00000000e+00],\n       [4.10708404e-05, 4.23372932e-05, 0.00000000e+00, 4.24141207e-05],\n       [0.00000000e+00, 0.00000000e+00, 0.00000000e+00, 0.00000000e+00],\n       [0.00000000e+00, 8.17933476e-01, 9.99950020e-01, 2.68450142e-02],\n       [0.00000000e+00, 0.00000000e+00, 0.00000000e+00, 0.00000000e+00]])"
     },
     "execution_count": 40,
     "metadata": {},
     "output_type": "execute_result"
    }
   ],
   "source": [
    "from random import uniform\n",
    "\n",
    "def sarsa(alpha: float):\n",
    "    epsilon: float = 1.0\n",
    "    \n",
    "    q_table = np.zeros((num_states, num_actions))\n",
    "    \n",
    "    reward_array = np.zeros(EPISODES)\n",
    "    for i in range(EPISODES):\n",
    "        state = env.reset()[0]\n",
    "        if uniform(0., 1.) >= epsilon:\n",
    "            action = np.argmax(q_table[state, :])\n",
    "        else:\n",
    "            action = np.random.randint(num_actions)\n",
    "\n",
    "        total_rewards = 0.\n",
    "        \n",
    "        while True:\n",
    "            new_state, reward, terminated, truncated, _ = env.step(action)\n",
    "            \n",
    "            if uniform(0., 1.) >= epsilon:\n",
    "                new_action = np.argmax(q_table[state, :])\n",
    "            else:\n",
    "                new_action = np.random.randint(num_actions)\n",
    "\n",
    "            q_table[state, action] += alpha * (reward + (DISCOUNT_FACTOR * q_table[new_state, new_action]) - q_table[state, action])\n",
    "\n",
    "            total_rewards += reward\n",
    "            \n",
    "            if terminated or truncated:\n",
    "                break\n",
    "\n",
    "            state, action = new_state, new_action\n",
    "\n",
    "        epsilon = max(epsilon - 1. / EPISODES, 0.)\n",
    "\n",
    "        reward_array[i] = total_rewards\n",
    "            \n",
    "    return q_table, reward_array\n",
    "\n",
    "table, rewards_per_episode = sarsa(0.1)\n",
    "\n",
    "table"
   ],
   "metadata": {
    "collapsed": false,
    "ExecuteTime": {
     "end_time": "2024-04-14T18:34:30.994494Z",
     "start_time": "2024-04-14T18:34:30.241836Z"
    }
   },
   "id": "43cd7185900c1cd4",
   "execution_count": 40
  },
  {
   "cell_type": "code",
   "outputs": [
    {
     "data": {
      "text/plain": "<Figure size 1200x500 with 1 Axes>",
      "image/png": "[encoded data removed]"
     },
     "metadata": {},
     "output_type": "display_data"
    }
   ],
   "source": [
    "plt.figure(1, figsize=(12, 5))\n",
    "plt.title(\"Frozen Lake, SARSA algorytm with epsilon d\")\n",
    "plt.xlabel(\"Episode number\")\n",
    "plt.ylabel(\"Score\")\n",
    "\n",
    "sum_rewards = np.zeros(EPISODES)\n",
    "for x in range(EPISODES):\n",
    "    sum_rewards[x] = np.sum(rewards_per_episode[: x]) / 100\n",
    "plt.subplot(111)\n",
    "plt.plot(sum_rewards)\n",
    "plt.show()"
   ],
   "metadata": {
    "collapsed": false,
    "ExecuteTime": {
     "end_time": "2024-04-14T18:39:26.433451Z",
     "start_time": "2024-04-14T18:39:26.267017Z"
    }
   },
   "id": "ffbe9e3b404f1532",
   "execution_count": 43
  },
  {
   "cell_type": "code",
   "outputs": [
    {
     "name": "stdout",
     "output_type": "stream",
     "text": [
      "0.004\n",
      "0.460566\n",
      "0.94\n"
     ]
    }
   ],
   "source": [
    "print(np.sum(rewards_per_episode[:1_000]) / 1_000)\n",
    "print(np.sum(sum_rewards) / EPISODES)\n",
    "print(sum_rewards[-1])"
   ],
   "metadata": {
    "collapsed": false,
    "ExecuteTime": {
     "end_time": "2024-04-14T18:41:30.862774Z",
     "start_time": "2024-04-14T18:41:30.858634Z"
    }
   },
   "id": "325dca9ea31de619",
   "execution_count": 46
  }
 ],
 "metadata": {
  "kernelspec": {
   "name": "ioadc",
   "language": "python",
   "display_name": "IOADC"
  },
  "language_info": {
   "codemirror_mode": {
    "name": "ipython",
    "version": 2
   },
   "file_extension": ".py",
   "mimetype": "text/x-python",
   "name": "python",
   "nbconvert_exporter": "python",
   "pygments_lexer": "ipython2",
   "version": "2.7.6"
  }
 },
 "nbformat": 4,
 "nbformat_minor": 5
}
